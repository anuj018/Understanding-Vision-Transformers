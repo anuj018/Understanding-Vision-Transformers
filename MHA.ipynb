{
 "cells": [
  {
   "cell_type": "markdown",
   "id": "8fb7c622",
   "metadata": {},
   "source": [
    "# MultiHeaded Attention\n",
    "breaking down each word vector into N different parts and multiplyting each of them with different Linear Layers with different weights to get a better contextual understanding of the sequence of words"
   ]
  },
  {
   "cell_type": "code",
   "execution_count": 1,
   "id": "4ac1b7ed",
   "metadata": {},
   "outputs": [],
   "source": [
    "import torch\n",
    "import torch.nn as nn\n",
    "import torch.nn.functional as F\n",
    "import math"
   ]
  },
  {
   "cell_type": "code",
   "execution_count": 2,
   "id": "d24883c8",
   "metadata": {},
   "outputs": [],
   "source": [
    "sequence_length = 4 #size of the sentence\n",
    "batch_size = 1\n",
    "input_dim = 512 #vector dimension of every word\n",
    "d_model =512 #vector dimension of output\n",
    "x = torch.randn((batch_size,sequence_length,input_dim))\n",
    "# X is thesequence with positional and imput embeddings"
   ]
  },
  {
   "cell_type": "code",
   "execution_count": 3,
   "id": "e0b7179f",
   "metadata": {},
   "outputs": [
    {
     "data": {
      "text/plain": [
       "torch.Size([1, 4, 512])"
      ]
     },
     "execution_count": 3,
     "metadata": {},
     "output_type": "execute_result"
    }
   ],
   "source": [
    "x.shape"
   ]
  },
  {
   "cell_type": "code",
   "execution_count": 4,
   "id": "b78ea484",
   "metadata": {},
   "outputs": [
    {
     "data": {
      "text/plain": [
       "'this creates the linear layer (a simple matrix with learnable values)\\ncreated and concatenated for q k and v'"
      ]
     },
     "execution_count": 4,
     "metadata": {},
     "output_type": "execute_result"
    }
   ],
   "source": [
    "qkv_layer = nn.Linear(input_dim,3*d_model) \n",
    "\"\"\"this creates the linear layer (a simple matrix with learnable values)\n",
    "created and concatenated for q k and v\"\"\""
   ]
  },
  {
   "cell_type": "code",
   "execution_count": 5,
   "id": "05216276",
   "metadata": {},
   "outputs": [],
   "source": [
    "qkv = qkv_layer(x)"
   ]
  },
  {
   "cell_type": "code",
   "execution_count": 6,
   "id": "ce43c256",
   "metadata": {},
   "outputs": [
    {
     "data": {
      "text/plain": [
       "torch.Size([1, 4, 1536])"
      ]
     },
     "execution_count": 6,
     "metadata": {},
     "output_type": "execute_result"
    }
   ],
   "source": [
    "qkv.shape"
   ]
  },
  {
   "cell_type": "code",
   "execution_count": 7,
   "id": "e34274a9",
   "metadata": {},
   "outputs": [],
   "source": [
    "number_of_heads = 8 \n",
    "dim_per_head = d_model//8\n",
    "qkv = qkv.reshape(batch_size, sequence_length, number_of_heads, 3*dim_per_head)\n",
    "qkv = qkv.permute(0,2,1,3) #reshaping the arrangement of the tensor to have[1,8,4,3*head_dim]"
   ]
  },
  {
   "cell_type": "code",
   "execution_count": 8,
   "id": "56671027",
   "metadata": {},
   "outputs": [
    {
     "data": {
      "text/plain": [
       "torch.Size([1, 8, 4, 192])"
      ]
     },
     "execution_count": 8,
     "metadata": {},
     "output_type": "execute_result"
    }
   ],
   "source": [
    "qkv.shape"
   ]
  },
  {
   "cell_type": "code",
   "execution_count": 9,
   "id": "cb2ecac2",
   "metadata": {},
   "outputs": [],
   "source": [
    "Q,K,V = qkv.chunk(3,dim = -1)"
   ]
  },
  {
   "cell_type": "code",
   "execution_count": 10,
   "id": "dbf83e49",
   "metadata": {},
   "outputs": [
    {
     "data": {
      "text/plain": [
       "torch.Size([1, 8, 4, 64])"
      ]
     },
     "execution_count": 10,
     "metadata": {},
     "output_type": "execute_result"
    }
   ],
   "source": [
    "Q.shape"
   ]
  },
  {
   "cell_type": "code",
   "execution_count": 11,
   "id": "fdf5ace2",
   "metadata": {},
   "outputs": [],
   "source": [
    "d_k = Q.shape[-1]\n",
    "scaled_Q_matmul_k = torch.matmul(Q,K.transpose(-2,-1)) / math.sqrt(d_k)"
   ]
  },
  {
   "cell_type": "code",
   "execution_count": 12,
   "id": "5e0838a2",
   "metadata": {},
   "outputs": [
    {
     "data": {
      "text/plain": [
       "torch.Size([1, 8, 4, 4])"
      ]
     },
     "execution_count": 12,
     "metadata": {},
     "output_type": "execute_result"
    }
   ],
   "source": [
    "scaled_Q_matmul_k.shape"
   ]
  },
  {
   "cell_type": "code",
   "execution_count": 13,
   "id": "4f6bcf98",
   "metadata": {},
   "outputs": [
    {
     "data": {
      "text/plain": [
       "tensor([[[[-0.2556,  0.1601, -0.0357,  0.1113],\n",
       "          [-0.0708, -0.2969,  0.2796,  0.2689],\n",
       "          [-0.6026, -0.4058,  0.6889,  0.0602],\n",
       "          [ 0.0431,  0.4054,  0.6170, -0.1980]],\n",
       "\n",
       "         [[ 0.4075, -0.2631, -0.2518, -0.3762],\n",
       "          [ 0.4232, -0.0257,  0.0805, -0.3280],\n",
       "          [ 0.3020,  0.0651, -0.0179, -0.0562],\n",
       "          [-0.1143,  0.1181,  0.1633,  0.0483]],\n",
       "\n",
       "         [[ 0.0107,  0.0161, -0.2362,  0.0865],\n",
       "          [ 0.7051,  0.5968,  0.4943, -0.3331],\n",
       "          [ 0.3352,  0.1637,  0.1089,  0.0669],\n",
       "          [ 0.6016,  0.1963,  0.0076,  0.1804]],\n",
       "\n",
       "         [[-0.2375,  0.3913, -0.5017, -0.0871],\n",
       "          [ 0.2911,  0.2103, -0.2584,  0.1324],\n",
       "          [-0.6113,  0.5588, -0.1236,  0.1377],\n",
       "          [-0.0838, -0.6880, -0.3592,  0.1098]],\n",
       "\n",
       "         [[ 0.1261,  0.1488, -0.1506,  0.2607],\n",
       "          [ 0.1584, -0.5350,  0.4735,  0.2934],\n",
       "          [ 0.1575,  0.7036, -0.3544, -0.5250],\n",
       "          [-0.1817, -0.0067, -0.0210, -0.0542]],\n",
       "\n",
       "         [[-0.5608, -0.1606,  0.1242, -0.3415],\n",
       "          [ 0.0466, -0.3635, -0.0555,  0.1044],\n",
       "          [-0.1992,  0.3840,  0.5652, -0.0490],\n",
       "          [-0.2052,  0.2067,  0.7117,  0.4998]],\n",
       "\n",
       "         [[ 0.1588, -0.2758,  0.1371, -0.0890],\n",
       "          [-0.0504,  0.3868, -0.0623,  0.4259],\n",
       "          [-0.1021,  0.3087,  0.1312,  0.0951],\n",
       "          [ 0.1880, -0.0437, -0.1380, -0.0552]],\n",
       "\n",
       "         [[ 0.2182, -0.0760,  0.4054, -0.3147],\n",
       "          [-0.0746,  0.1600,  0.3461,  0.0389],\n",
       "          [-0.1534, -0.3331, -0.1057,  0.1053],\n",
       "          [ 0.1327,  0.0901,  0.5353, -0.1618]]]], grad_fn=<DivBackward0>)"
      ]
     },
     "execution_count": 13,
     "metadata": {},
     "output_type": "execute_result"
    }
   ],
   "source": [
    "scaled_Q_matmul_k"
   ]
  },
  {
   "cell_type": "markdown",
   "id": "a19b3a1d",
   "metadata": {},
   "source": [
    "## Masking the scaled_q_k_output\n"
   ]
  },
  {
   "cell_type": "code",
   "execution_count": 65,
   "id": "6dc5a1be",
   "metadata": {},
   "outputs": [],
   "source": [
    "mask = torch.full(scaled_Q_matmul_k.size(),-torch.inf)"
   ]
  },
  {
   "cell_type": "code",
   "execution_count": 66,
   "id": "97bb6f57",
   "metadata": {},
   "outputs": [],
   "source": [
    "mask = torch.triu(mask,diagonal = 1)"
   ]
  },
  {
   "cell_type": "code",
   "execution_count": 67,
   "id": "736cd433",
   "metadata": {},
   "outputs": [],
   "source": [
    "masked_scaled_q_matmul_k = mask + scaled_Q_matmul_k\n"
   ]
  },
  {
   "cell_type": "code",
   "execution_count": 68,
   "id": "c3d83937",
   "metadata": {},
   "outputs": [
    {
     "data": {
      "text/plain": [
       "tensor([[[[ 0.1378,    -inf,    -inf,    -inf],\n",
       "          [-0.0831,  0.4652,    -inf,    -inf],\n",
       "          [-0.4318,  0.2800, -0.2073,    -inf],\n",
       "          [ 0.2879, -0.1388,  0.1274, -0.1766]],\n",
       "\n",
       "         [[-0.3567,    -inf,    -inf,    -inf],\n",
       "          [-0.1704,  0.3626,    -inf,    -inf],\n",
       "          [ 0.2982,  0.2223,  0.2475,    -inf],\n",
       "          [-0.0281, -0.2246, -0.0802,  0.6789]],\n",
       "\n",
       "         [[ 0.0020,    -inf,    -inf,    -inf],\n",
       "          [ 0.1887, -0.5517,    -inf,    -inf],\n",
       "          [-0.2751,  0.0403,  0.0251,    -inf],\n",
       "          [ 0.0970, -0.0690,  0.2044,  0.2624]],\n",
       "\n",
       "         [[ 0.0536,    -inf,    -inf,    -inf],\n",
       "          [ 0.0969, -0.1592,    -inf,    -inf],\n",
       "          [ 0.1331,  0.7730, -0.4895,    -inf],\n",
       "          [ 0.0140,  0.4209,  0.4723, -0.2291]],\n",
       "\n",
       "         [[ 0.0296,    -inf,    -inf,    -inf],\n",
       "          [ 0.0609, -0.5630,    -inf,    -inf],\n",
       "          [ 0.1409, -0.5189,  0.1368,    -inf],\n",
       "          [-0.3432,  0.1459, -0.4373,  0.2193]],\n",
       "\n",
       "         [[ 0.0577,    -inf,    -inf,    -inf],\n",
       "          [ 0.4705, -0.0438,    -inf,    -inf],\n",
       "          [ 0.4668,  0.1136,  0.0543,    -inf],\n",
       "          [ 0.1035, -0.5582,  0.4002, -0.0373]],\n",
       "\n",
       "         [[ 0.3168,    -inf,    -inf,    -inf],\n",
       "          [-0.1403, -0.4098,    -inf,    -inf],\n",
       "          [-0.1097,  0.0583,  0.2214,    -inf],\n",
       "          [ 0.1190,  0.4740,  0.3229,  0.1622]],\n",
       "\n",
       "         [[ 0.0756,    -inf,    -inf,    -inf],\n",
       "          [-0.2859, -0.0824,    -inf,    -inf],\n",
       "          [-0.1629,  0.2462, -0.2615,    -inf],\n",
       "          [ 0.4447, -0.1525, -0.3220,  0.5892]]]], grad_fn=<AddBackward0>)"
      ]
     },
     "execution_count": 68,
     "metadata": {},
     "output_type": "execute_result"
    }
   ],
   "source": [
    "masked_scaled_q_matmul_k"
   ]
  },
  {
   "cell_type": "code",
   "execution_count": 69,
   "id": "cfd2b1d7",
   "metadata": {},
   "outputs": [
    {
     "data": {
      "text/plain": [
       "-inf"
      ]
     },
     "execution_count": 69,
     "metadata": {},
     "output_type": "execute_result"
    }
   ],
   "source": [
    "-torch.inf"
   ]
  },
  {
   "cell_type": "code",
   "execution_count": 70,
   "id": "097dbd39",
   "metadata": {},
   "outputs": [
    {
     "data": {
      "text/plain": [
       "torch.Size([1, 8, 4, 4])"
      ]
     },
     "execution_count": 70,
     "metadata": {},
     "output_type": "execute_result"
    }
   ],
   "source": [
    "masked_scaled_q_matmul_k.shape"
   ]
  },
  {
   "cell_type": "code",
   "execution_count": 73,
   "id": "db887d9e",
   "metadata": {},
   "outputs": [],
   "source": [
    "attention = F.softmax(masked_scaled_q_matmul_k,dim = -1)"
   ]
  },
  {
   "cell_type": "code",
   "execution_count": 74,
   "id": "2a84ccd3",
   "metadata": {},
   "outputs": [
    {
     "data": {
      "text/plain": [
       "tensor([[1.0000, 0.0000, 0.0000, 0.0000],\n",
       "        [0.3663, 0.6337, 0.0000, 0.0000],\n",
       "        [0.2331, 0.4751, 0.2918, 0.0000],\n",
       "        [0.3192, 0.2083, 0.2719, 0.2006]], grad_fn=<SelectBackward0>)"
      ]
     },
     "execution_count": 74,
     "metadata": {},
     "output_type": "execute_result"
    }
   ],
   "source": [
    "attention[0][0]"
   ]
  },
  {
   "cell_type": "code",
   "execution_count": 75,
   "id": "9b81bbdf",
   "metadata": {},
   "outputs": [],
   "source": [
    "values = torch.matmul(attention,V)"
   ]
  },
  {
   "cell_type": "code",
   "execution_count": 76,
   "id": "471f2de8",
   "metadata": {},
   "outputs": [
    {
     "data": {
      "text/plain": [
       "torch.Size([1, 8, 4, 64])"
      ]
     },
     "execution_count": 76,
     "metadata": {},
     "output_type": "execute_result"
    }
   ],
   "source": [
    "values.shape"
   ]
  },
  {
   "cell_type": "code",
   "execution_count": 80,
   "id": "ddec8871",
   "metadata": {},
   "outputs": [],
   "source": [
    "values = values.reshape(batch_size,sequence_length,number_of_heads*d_k)"
   ]
  },
  {
   "cell_type": "code",
   "execution_count": 81,
   "id": "12112606",
   "metadata": {},
   "outputs": [
    {
     "data": {
      "text/plain": [
       "torch.Size([1, 4, 512])"
      ]
     },
     "execution_count": 81,
     "metadata": {},
     "output_type": "execute_result"
    }
   ],
   "source": [
    "values.shape"
   ]
  },
  {
   "cell_type": "code",
   "execution_count": 84,
   "id": "51db4a61",
   "metadata": {},
   "outputs": [],
   "source": [
    "feed_forward_layer = nn.Linear(d_model,d_model)\n",
    "output = feed_forward_layer(values)"
   ]
  },
  {
   "cell_type": "code",
   "execution_count": 86,
   "id": "a1d65ae7",
   "metadata": {},
   "outputs": [
    {
     "data": {
      "text/plain": [
       "torch.Size([1, 4, 512])"
      ]
     },
     "execution_count": 86,
     "metadata": {},
     "output_type": "execute_result"
    }
   ],
   "source": [
    "output.shape"
   ]
  },
  {
   "cell_type": "code",
   "execution_count": null,
   "id": "d7899d47",
   "metadata": {},
   "outputs": [],
   "source": []
  }
 ],
 "metadata": {
  "kernelspec": {
   "display_name": "Python 3 (ipykernel)",
   "language": "python",
   "name": "python3"
  },
  "language_info": {
   "codemirror_mode": {
    "name": "ipython",
    "version": 3
   },
   "file_extension": ".py",
   "mimetype": "text/x-python",
   "name": "python",
   "nbconvert_exporter": "python",
   "pygments_lexer": "ipython3",
   "version": "3.8.10"
  }
 },
 "nbformat": 4,
 "nbformat_minor": 5
}
