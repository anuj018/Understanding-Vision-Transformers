{
 "cells": [
  {
   "cell_type": "markdown",
   "id": "b22712fc",
   "metadata": {},
   "source": [
    "# Layer Normalization\n",
    "Typically performed to make back propogation smoother and faster\n",
    "Rescales each of the features to ensure hat all features contribute proportionately\n"
   ]
  },
  {
   "cell_type": "code",
   "execution_count": 7,
   "id": "77f6fdc7",
   "metadata": {},
   "outputs": [],
   "source": [
    "import torch \n",
    "from torch import nn"
   ]
  },
  {
   "cell_type": "code",
   "execution_count": 21,
   "id": "fee4c98c",
   "metadata": {},
   "outputs": [],
   "source": [
    "class LayerNormalization():\n",
    "    def __init__(self,parameters_shape,eps = 1e-5):\n",
    "        self.parameter_shape = parameters_shape\n",
    "        self.eps = eps\n",
    "        self.gamma = nn.Parameter(torch.ones(parameters_shape))\n",
    "        self.beta = nn.Parameter(torch.zeros(parameters_shape))\n",
    "    def forward(self,input):\n",
    "        dims = [-(i+1) for i in range(len(self.parameter_shape))]\n",
    "        mean = input.mean(dim = dims,keepdim = True)\n",
    "        var = ((input - mean)**2).mean(dim = dims,keepdim = True)\n",
    "        std = (var + self.eps).sqrt()\n",
    "        y = (input - mean)/std\n",
    "        out = self.gamma*mean + self.beta\n",
    "        return out"
   ]
  },
  {
   "cell_type": "code",
   "execution_count": 26,
   "id": "012368e9",
   "metadata": {},
   "outputs": [
    {
     "data": {
      "text/plain": [
       "tensor([[[-1.6066e+00, -1.2144e-01,  4.8077e-01,  6.1586e-01,  2.3421e-01,\n",
       "           1.7061e-01,  2.4429e-04, -1.8443e+00],\n",
       "         [-2.9803e-01, -6.9081e-01, -9.7087e-01, -2.1962e-01, -7.1620e-01,\n",
       "           1.8909e-01, -5.5205e-01,  1.9166e+00],\n",
       "         [ 1.0647e+00,  1.0995e+00, -1.4656e+00, -1.2400e+00, -1.0252e+00,\n",
       "           5.6818e-01,  1.1265e+00, -1.4623e+00]],\n",
       "\n",
       "        [[-6.1685e-02, -7.5046e-01,  7.1222e-01, -1.0652e+00,  3.9705e-01,\n",
       "           8.2210e-01,  3.6211e-01, -3.0005e-01],\n",
       "         [ 1.1059e+00,  9.4058e-01, -5.4890e-01, -1.6709e-01, -5.3037e-01,\n",
       "           1.0509e+00, -1.6510e+00, -9.3317e-01],\n",
       "         [-7.0923e-01,  1.4314e+00, -7.7552e-01, -7.4886e-01, -3.3261e-03,\n",
       "           1.5952e-01,  1.0939e+00, -7.7413e-01]],\n",
       "\n",
       "        [[ 1.0554e+00,  1.1050e-01,  3.6262e-01,  2.4911e-01,  1.5173e+00,\n",
       "           3.3672e-02, -7.6105e-01, -2.3047e-01],\n",
       "         [ 3.5254e-01, -3.5780e-01,  6.7674e-01, -4.5833e-01,  5.0088e-01,\n",
       "           4.9306e-01, -8.9852e-01, -1.2132e+00],\n",
       "         [ 1.6521e+00,  6.7972e-02, -9.9678e-01,  8.8512e-01, -8.1571e-01,\n",
       "          -7.7061e-01,  4.9467e-02,  1.1081e+00]],\n",
       "\n",
       "        [[-1.3694e-02, -2.2806e+00,  1.3070e+00,  6.8860e-02,  1.9986e-01,\n",
       "          -2.9171e-01,  5.7191e-01,  5.6391e-01],\n",
       "         [-1.0824e+00,  8.2901e-01, -2.0523e+00, -7.1939e-01,  6.5317e-03,\n",
       "          -1.0320e+00,  1.2951e+00,  6.6790e-01],\n",
       "         [-1.7302e+00,  3.1843e-01, -1.0226e+00,  2.2649e-01,  1.0747e+00,\n",
       "          -7.3880e-01,  1.5046e+00,  4.9537e-01]]])"
      ]
     },
     "execution_count": 26,
     "metadata": {},
     "output_type": "execute_result"
    }
   ],
   "source": [
    "batch_size = 3\n",
    "sequence_length = 4\n",
    "embedding_dim = 8\n",
    "input = torch.randn(sequence_length,batch_size,embedding_dim)\n",
    "input"
   ]
  },
  {
   "cell_type": "code",
   "execution_count": 27,
   "id": "c84d93e1",
   "metadata": {},
   "outputs": [],
   "source": [
    "layer_norm = LayerNormalization(input.size()[-1:])\n",
    "    "
   ]
  },
  {
   "cell_type": "code",
   "execution_count": 28,
   "id": "3d2a7242",
   "metadata": {},
   "outputs": [],
   "source": [
    "out = layer_norm.forward(input)"
   ]
  },
  {
   "cell_type": "code",
   "execution_count": 29,
   "id": "198475d4",
   "metadata": {},
   "outputs": [
    {
     "data": {
      "text/plain": [
       "tensor([[[-0.2588, -0.2588, -0.2588, -0.2588, -0.2588, -0.2588, -0.2588,\n",
       "          -0.2588],\n",
       "         [-0.1677, -0.1677, -0.1677, -0.1677, -0.1677, -0.1677, -0.1677,\n",
       "          -0.1677],\n",
       "         [-0.1668, -0.1668, -0.1668, -0.1668, -0.1668, -0.1668, -0.1668,\n",
       "          -0.1668]],\n",
       "\n",
       "        [[ 0.0145,  0.0145,  0.0145,  0.0145,  0.0145,  0.0145,  0.0145,\n",
       "           0.0145],\n",
       "         [-0.0917, -0.0917, -0.0917, -0.0917, -0.0917, -0.0917, -0.0917,\n",
       "          -0.0917],\n",
       "         [-0.0408, -0.0408, -0.0408, -0.0408, -0.0408, -0.0408, -0.0408,\n",
       "          -0.0408]],\n",
       "\n",
       "        [[ 0.2921,  0.2921,  0.2921,  0.2921,  0.2921,  0.2921,  0.2921,\n",
       "           0.2921],\n",
       "         [-0.1131, -0.1131, -0.1131, -0.1131, -0.1131, -0.1131, -0.1131,\n",
       "          -0.1131],\n",
       "         [ 0.1475,  0.1475,  0.1475,  0.1475,  0.1475,  0.1475,  0.1475,\n",
       "           0.1475]],\n",
       "\n",
       "        [[ 0.0157,  0.0157,  0.0157,  0.0157,  0.0157,  0.0157,  0.0157,\n",
       "           0.0157],\n",
       "         [-0.2610, -0.2610, -0.2610, -0.2610, -0.2610, -0.2610, -0.2610,\n",
       "          -0.2610],\n",
       "         [ 0.0160,  0.0160,  0.0160,  0.0160,  0.0160,  0.0160,  0.0160,\n",
       "           0.0160]]], grad_fn=<AddBackward0>)"
      ]
     },
     "execution_count": 29,
     "metadata": {},
     "output_type": "execute_result"
    }
   ],
   "source": [
    "out"
   ]
  },
  {
   "cell_type": "code",
   "execution_count": null,
   "id": "036a0229",
   "metadata": {},
   "outputs": [],
   "source": []
  }
 ],
 "metadata": {
  "kernelspec": {
   "display_name": "Python 3 (ipykernel)",
   "language": "python",
   "name": "python3"
  },
  "language_info": {
   "codemirror_mode": {
    "name": "ipython",
    "version": 3
   },
   "file_extension": ".py",
   "mimetype": "text/x-python",
   "name": "python",
   "nbconvert_exporter": "python",
   "pygments_lexer": "ipython3",
   "version": "3.8.10"
  }
 },
 "nbformat": 4,
 "nbformat_minor": 5
}
